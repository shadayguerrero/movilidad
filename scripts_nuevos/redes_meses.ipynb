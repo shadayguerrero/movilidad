{
 "cells": [
  {
   "cell_type": "code",
   "execution_count": null,
   "id": "84ba95b1-d0c2-4c76-9186-67525043a2a4",
   "metadata": {},
   "outputs": [
    {
     "ename": "",
     "evalue": "",
     "output_type": "error",
     "traceback": [
      "\u001b[1;31mWARNING: You are using pip version 21.1.3; however, version 25.0.1 is available.\n",
      "\u001b[1;31mYou should consider upgrading via the '/bin/python3 -m pip install --upgrade pip' command. \n",
      "\u001b[1;31mView Jupyter <a href='command:jupyter.viewOutput'>log</a> for further details."
     ]
    }
   ],
   "source": [
    "import os\n",
    "import glob\n",
    "import pandas as pd\n",
    "import networkx as nx\n",
    "import matplotlib.pyplot as plt\n",
    "from matplotlib.animation import FuncAnimation\n",
    "\n",
    "# Ruta con los archivos OD diarios\n",
    "input_dir = \"/data/shaday_data/GIT/movilidad/salidas_od\"\n",
    "archivos = sorted(glob.glob(f\"{input_dir}/od_municipio_2020_*.csv\"))\n",
    "\n",
    "# Posición fija de nodos para evitar que se reordenen en cada frame\n",
    "municipios_set = set()\n",
    "for archivo in archivos:\n",
    "    df = pd.read_csv(archivo)\n",
    "    municipios_set.update(df[\"origen\"].unique())\n",
    "    municipios_set.update(df[\"destino\"].unique())\n",
    "\n",
    "pos = nx.spring_layout(nx.empty_graph(len(municipios_set)), seed=42)\n",
    "\n",
    "# Crear figura\n",
    "fig, ax = plt.subplots(figsize=(10, 8))\n",
    "title = ax.set_title(\"\", fontsize=16)\n",
    "\n",
    "def build_graph(df):\n",
    "    G = nx.DiGraph()\n",
    "    for _, row in df.iterrows():\n",
    "        G.add_edge(row[\"origen\"], row[\"destino\"], weight=row[\"peso\"])\n",
    "    return G\n",
    "\n",
    "def update(frame):\n",
    "    ax.clear()\n",
    "    archivo = archivos[frame]\n",
    "    fecha = archivo.split(\"_\")[-1].replace(\".csv\", \"\").replace(\"_\", \"-\")\n",
    "    df = pd.read_csv(archivo)\n",
    "    G = build_graph(df)\n",
    "\n",
    "    nx.draw_networkx_nodes(G, pos, ax=ax, node_size=80)\n",
    "    nx.draw_networkx_edges(G, pos, ax=ax,\n",
    "                           alpha=0.5,\n",
    "                           arrows=True,\n",
    "                           edge_color=\"gray\",\n",
    "                           width=[G[u][v][\"weight\"] / 10 for u, v in G.edges()])\n",
    "    title.set_text(f\"Red OD - {fecha}\")\n",
    "    ax.axis(\"off\")\n",
    "\n",
    "ani = FuncAnimation(fig, update, frames=len(archivos), repeat=False)\n",
    "plt.show()"
   ]
  },
  {
   "cell_type": "code",
   "execution_count": null,
   "metadata": {},
   "outputs": [
    {
     "name": "stderr",
     "output_type": "stream",
     "text": [
      "Matplotlib is building the font cache; this may take a moment.\n"
     ]
    }
   ],
   "source": [
    "import os\n",
    "import glob\n",
    "import pandas as pd\n",
    "import networkx as nx\n",
    "import matplotlib.pyplot as plt\n",
    "from matplotlib.animation import FuncAnimation\n"
   ]
  },
  {
   "cell_type": "code",
   "execution_count": null,
   "metadata": {},
   "outputs": [
    {
     "data": {
      "image/png": "[encoded data removed]",
      "text/plain": [
       "<Figure size 1000x800 with 1 Axes>"
      ]
     },
     "metadata": {},
     "output_type": "display_data"
    }
   ],
   "source": [
    "# Ruta con los archivos OD diarios\n",
    "input_dir = \"/data/shaday_data/GIT/movilidad/salidas_od\"\n",
    "archivos = sorted(glob.glob(f\"{input_dir}/od_municipio_2020_*.csv\"))\n",
    "\n",
    "# Posición fija de nodos para evitar que se reordenen en cada frame\n",
    "municipios_set = set()\n",
    "for archivo in archivos:\n",
    "    df = pd.read_csv(archivo)\n",
    "    municipios_set.update(df[\"origen\"].unique())\n",
    "    municipios_set.update(df[\"destino\"].unique())\n",
    "\n",
    "pos = nx.spring_layout(nx.empty_graph(len(municipios_set)), seed=42)\n",
    "\n",
    "# Crear figura\n",
    "fig, ax = plt.subplots(figsize=(10, 8))\n",
    "title = ax.set_title(\"\", fontsize=16)\n",
    "\n",
    "def build_graph(df):\n",
    "    G = nx.DiGraph()\n",
    "    for _, row in df.iterrows():\n",
    "        G.add_edge(row[\"origen\"], row[\"destino\"], weight=row[\"peso\"])\n",
    "    return G\n",
    "\n",
    "def update(frame):\n",
    "    ax.clear()\n",
    "    archivo = archivos[frame]\n",
    "    fecha = archivo.split(\"_\")[-1].replace(\".csv\", \"\").replace(\"_\", \"-\")\n",
    "    df = pd.read_csv(archivo)\n",
    "    G = build_graph(df)\n",
    "\n",
    "    nx.draw_networkx_nodes(G, pos, ax=ax, node_size=80)\n",
    "    nx.draw_networkx_edges(G, pos, ax=ax,\n",
    "                           alpha=0.5,\n",
    "                           arrows=True,\n",
    "                           edge_color=\"gray\",\n",
    "                           width=[G[u][v][\"weight\"] / 10 for u, v in G.edges()])\n",
    "    title.set_text(f\"Red OD - {fecha}\")\n",
    "    ax.axis(\"off\")\n",
    "\n",
    "ani = FuncAnimation(fig, update, frames=len(archivos), repeat=False)\n",
    "plt.show()\n"
   ]
  }
 ],
 "metadata": {
  "language_info": {
   "codemirror_mode": {
    "name": "ipython",
    "version": 3
   },
   "file_extension": ".py",
   "mimetype": "text/x-python",
   "name": "python",
   "nbconvert_exporter": "python",
   "pygments_lexer": "ipython3",
   "version": 3
  }
 },
 "nbformat": 4,
 "nbformat_minor": 2
}
